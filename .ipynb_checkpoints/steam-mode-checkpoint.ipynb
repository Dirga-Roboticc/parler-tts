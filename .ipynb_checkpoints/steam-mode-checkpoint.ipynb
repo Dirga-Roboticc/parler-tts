{
 "cells": [
  {
   "cell_type": "code",
   "execution_count": 3,
   "id": "ed7d1c03-b99f-49cf-ad7a-4f0c48647414",
   "metadata": {},
   "outputs": [
    {
     "name": "stdout",
     "output_type": "stream",
     "text": [
      "CUDA is available. Device count: 1\n",
      "Device 0: NVIDIA L4\n",
      "Current device: 0 - NVIDIA L4\n"
     ]
    }
   ],
   "source": [
    "if torch.cuda.is_available():\n",
    "    print(f\"CUDA is available. Device count: {torch.cuda.device_count()}\")\n",
    "    for i in range(torch.cuda.device_count()):\n",
    "        print(f\"Device {i}: {torch.cuda.get_device_name(i)}\")\n",
    "    print(f\"Current device: {torch.cuda.current_device()} - {torch.cuda.get_device_name(torch.cuda.current_device())}\")\n",
    "else:\n",
    "    print(\"CUDA is not available. Using CPU.\")"
   ]
  },
  {
   "cell_type": "code",
   "execution_count": 1,
   "id": "264017af-694a-4620-9367-6d8f3364e27b",
   "metadata": {},
   "outputs": [
    {
     "name": "stdout",
     "output_type": "stream",
     "text": [
      "Collecting flash-attn\n",
      "  Using cached flash_attn-2.6.3-cp311-cp311-linux_x86_64.whl\n",
      "Requirement already satisfied: torch in ./.conda/lib/python3.11/site-packages (from flash-attn) (2.4.1)\n",
      "Requirement already satisfied: einops in ./.conda/lib/python3.11/site-packages (from flash-attn) (0.8.0)\n",
      "Requirement already satisfied: filelock in ./.conda/lib/python3.11/site-packages (from torch->flash-attn) (3.16.1)\n",
      "Requirement already satisfied: typing-extensions>=4.8.0 in ./.conda/lib/python3.11/site-packages (from torch->flash-attn) (4.11.0)\n",
      "Requirement already satisfied: sympy in ./.conda/lib/python3.11/site-packages (from torch->flash-attn) (1.13.3)\n",
      "Requirement already satisfied: networkx in ./.conda/lib/python3.11/site-packages (from torch->flash-attn) (3.4.1)\n",
      "Requirement already satisfied: jinja2 in ./.conda/lib/python3.11/site-packages (from torch->flash-attn) (3.1.4)\n",
      "Requirement already satisfied: fsspec in ./.conda/lib/python3.11/site-packages (from torch->flash-attn) (2024.9.0)\n",
      "Requirement already satisfied: nvidia-cuda-nvrtc-cu12==12.1.105 in ./.conda/lib/python3.11/site-packages (from torch->flash-attn) (12.1.105)\n",
      "Requirement already satisfied: nvidia-cuda-runtime-cu12==12.1.105 in ./.conda/lib/python3.11/site-packages (from torch->flash-attn) (12.1.105)\n",
      "Requirement already satisfied: nvidia-cuda-cupti-cu12==12.1.105 in ./.conda/lib/python3.11/site-packages (from torch->flash-attn) (12.1.105)\n",
      "Requirement already satisfied: nvidia-cudnn-cu12==9.1.0.70 in ./.conda/lib/python3.11/site-packages (from torch->flash-attn) (9.1.0.70)\n",
      "Requirement already satisfied: nvidia-cublas-cu12==12.1.3.1 in ./.conda/lib/python3.11/site-packages (from torch->flash-attn) (12.1.3.1)\n",
      "Requirement already satisfied: nvidia-cufft-cu12==11.0.2.54 in ./.conda/lib/python3.11/site-packages (from torch->flash-attn) (11.0.2.54)\n",
      "Requirement already satisfied: nvidia-curand-cu12==10.3.2.106 in ./.conda/lib/python3.11/site-packages (from torch->flash-attn) (10.3.2.106)\n",
      "Requirement already satisfied: nvidia-cusolver-cu12==11.4.5.107 in ./.conda/lib/python3.11/site-packages (from torch->flash-attn) (11.4.5.107)\n",
      "Requirement already satisfied: nvidia-cusparse-cu12==12.1.0.106 in ./.conda/lib/python3.11/site-packages (from torch->flash-attn) (12.1.0.106)\n",
      "Requirement already satisfied: nvidia-nccl-cu12==2.20.5 in ./.conda/lib/python3.11/site-packages (from torch->flash-attn) (2.20.5)\n",
      "Requirement already satisfied: nvidia-nvtx-cu12==12.1.105 in ./.conda/lib/python3.11/site-packages (from torch->flash-attn) (12.1.105)\n",
      "Requirement already satisfied: triton==3.0.0 in ./.conda/lib/python3.11/site-packages (from torch->flash-attn) (3.0.0)\n",
      "Requirement already satisfied: nvidia-nvjitlink-cu12 in ./.conda/lib/python3.11/site-packages (from nvidia-cusolver-cu12==11.4.5.107->torch->flash-attn) (12.6.77)\n",
      "Requirement already satisfied: MarkupSafe>=2.0 in ./.conda/lib/python3.11/site-packages (from jinja2->torch->flash-attn) (2.1.3)\n",
      "Requirement already satisfied: mpmath<1.4,>=1.1.0 in ./.conda/lib/python3.11/site-packages (from sympy->torch->flash-attn) (1.3.0)\n",
      "Installing collected packages: flash-attn\n",
      "Successfully installed flash-attn-2.6.3\n"
     ]
    },
    {
     "name": "stderr",
     "output_type": "stream",
     "text": [
      "/home/user/Documents/tts/parler-tts/.conda/lib/python3.11/site-packages/tqdm/auto.py:21: TqdmWarning: IProgress not found. Please update jupyter and ipywidgets. See https://ipywidgets.readthedocs.io/en/stable/user_install.html\n",
      "  from .autonotebook import tqdm as notebook_tqdm\n",
      "Downloading shards: 100%|███████████████████████████████████████████████████████████████████████████████████████| 2/2 [00:16<00:00,  8.44s/it]\n",
      "/home/user/Documents/tts/parler-tts/.conda/lib/python3.11/site-packages/torch/nn/utils/weight_norm.py:134: FutureWarning: `torch.nn.utils.weight_norm` is deprecated in favor of `torch.nn.utils.parametrizations.weight_norm`.\n",
      "  WeightNorm.apply(module, name, dim)\n",
      "Loading checkpoint shards: 100%|████████████████████████████████████████████████████████████████████████████████| 2/2 [00:00<00:00,  3.67it/s]\n"
     ]
    }
   ],
   "source": [
    "# !pip install git+https://github.com/huggingface/parler-tts.git\n",
    "# !pip install flash-attn\n",
    "\n",
    "import torch\n",
    "from parler_tts import ParlerTTSForConditionalGeneration, ParlerTTSStreamer\n",
    "from transformers import AutoTokenizer\n",
    "from threading import Thread\n",
    "\n",
    "torch_device = \"cuda:0\" # Use \"mps\" for Mac \n",
    "torch_dtype = torch.bfloat16\n",
    "model_name = \"parler-tts/parler-tts-large-v1\"\n",
    "\n",
    "# need to set padding max length\n",
    "max_length = 50\n",
    "\n",
    "# load model and tokenizer\n",
    "tokenizer = AutoTokenizer.from_pretrained(model_name) \n",
    "model = ParlerTTSForConditionalGeneration.from_pretrained(\n",
    "    model_name,\n",
    ").to(torch_device, dtype=torch_dtype)\n",
    "\n",
    "sampling_rate = model.audio_encoder.config.sampling_rate\n",
    "frame_rate = model.audio_encoder.config.frame_rate\n"
   ]
  },
  {
   "cell_type": "code",
   "execution_count": 6,
   "id": "77637b97-62ce-4732-8cd0-7b848f5ca812",
   "metadata": {},
   "outputs": [
    {
     "name": "stdout",
     "output_type": "stream",
     "text": [
      "Sample of length: 0.329 seconds\n"
     ]
    },
    {
     "ename": "AttributeError",
     "evalue": "'numpy.ndarray' object has no attribute 'numpy'",
     "output_type": "error",
     "traceback": [
      "\u001b[0;31m---------------------------------------------------------------------------\u001b[0m",
      "\u001b[0;31mAttributeError\u001b[0m                            Traceback (most recent call last)",
      "Cell \u001b[0;32mIn[6], line 42\u001b[0m\n\u001b[1;32m     36\u001b[0m chunk_size_in_s \u001b[38;5;241m=\u001b[39m \u001b[38;5;241m0.5\u001b[39m\n\u001b[1;32m     38\u001b[0m \u001b[38;5;28;01mfor\u001b[39;00m (sampling_rate, audio_chunk) \u001b[38;5;129;01min\u001b[39;00m generate(text, description, chunk_size_in_s):\n\u001b[1;32m     39\u001b[0m   \u001b[38;5;66;03m# You can do everything that you need with the chunk now\u001b[39;00m\n\u001b[1;32m     40\u001b[0m   \u001b[38;5;66;03m# For example: stream it, save it, play it.\u001b[39;00m\n\u001b[1;32m     41\u001b[0m   \u001b[38;5;66;03m# Play the audio chunk\u001b[39;00m\n\u001b[0;32m---> 42\u001b[0m   sd\u001b[38;5;241m.\u001b[39mplay(audio_chunk\u001b[38;5;241m.\u001b[39mnumpy(), samplerate\u001b[38;5;241m=\u001b[39msampling_rate)\n\u001b[1;32m     43\u001b[0m   sd\u001b[38;5;241m.\u001b[39mwait()  \u001b[38;5;66;03m# Wait until the sound has finished playing\u001b[39;00m\n\u001b[1;32m     44\u001b[0m   \u001b[38;5;28mprint\u001b[39m(audio_chunk\u001b[38;5;241m.\u001b[39mshape)\n",
      "\u001b[0;31mAttributeError\u001b[0m: 'numpy.ndarray' object has no attribute 'numpy'"
     ]
    }
   ],
   "source": [
    "# !pip install sounddevice\n",
    "import sounddevice as sd\n",
    "\n",
    "def generate(text, description, play_steps_in_s=0.5):\n",
    "  play_steps = int(frame_rate * play_steps_in_s)\n",
    "  streamer = ParlerTTSStreamer(model, device=torch_device, play_steps=play_steps)\n",
    "  # tokenization\n",
    "  inputs = tokenizer(description, return_tensors=\"pt\").to(torch_device)\n",
    "  prompt = tokenizer(text, return_tensors=\"pt\").to(torch_device)\n",
    "  # create generation kwargs\n",
    "  generation_kwargs = dict(\n",
    "    input_ids=inputs.input_ids,\n",
    "    prompt_input_ids=prompt.input_ids,\n",
    "    attention_mask=inputs.attention_mask,\n",
    "    prompt_attention_mask=prompt.attention_mask,\n",
    "    streamer=streamer,\n",
    "    do_sample=True,\n",
    "    temperature=1.0,\n",
    "    min_new_tokens=10,\n",
    "  )\n",
    "  # initialize Thread\n",
    "  thread = Thread(target=model.generate, kwargs=generation_kwargs)\n",
    "  thread.start()\n",
    "  # iterate over chunks of audio\n",
    "  for new_audio in streamer:\n",
    "    if new_audio.shape[0] == 0:\n",
    "      break\n",
    "    print(f\"Sample of length: {round(new_audio.shape[0] / sampling_rate, 4)} seconds\")\n",
    "    yield sampling_rate, new_audio\n",
    "\n",
    "\n",
    "# now you can do\n",
    "text = \"This is a test of the streamer class\"\n",
    "description = \"Jon's talking really fast.\"\n",
    "\n",
    "chunk_size_in_s = 0.5\n",
    "\n",
    "for (sampling_rate, audio_chunk) in generate(text, description, chunk_size_in_s):\n",
    "  # You can do everything that you need with the chunk now\n",
    "  # For example: stream it, save it, play it.\n",
    "  # Play the audio chunk\n",
    "  sd.play(audio_chunk, samplerate=sampling_rate)\n",
    "  sd.wait()  # Wait until the sound has finished playing\n",
    "  print(audio_chunk.shape) "
   ]
  },
  {
   "cell_type": "code",
   "execution_count": null,
   "id": "39a041f1-de89-467b-a249-2d108db60fe5",
   "metadata": {},
   "outputs": [],
   "source": []
  }
 ],
 "metadata": {
  "kernelspec": {
   "display_name": "Python 3 (ipykernel)",
   "language": "python",
   "name": "python3"
  },
  "language_info": {
   "codemirror_mode": {
    "name": "ipython",
    "version": 3
   },
   "file_extension": ".py",
   "mimetype": "text/x-python",
   "name": "python",
   "nbconvert_exporter": "python",
   "pygments_lexer": "ipython3",
   "version": "3.11.10"
  }
 },
 "nbformat": 4,
 "nbformat_minor": 5
}
